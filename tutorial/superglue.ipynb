{
 "cells": [
  {
   "cell_type": "markdown",
   "metadata": {},
   "source": [
    "# huggingface datasets X Openprompt"
   ]
  },
  {
   "cell_type": "markdown",
   "metadata": {},
   "source": [
    "In this notebook, you will learn how to use integrate huggingface datasets utilities into openprompt to enable prompt learning in more datasets."
   ]
  },
  {
   "cell_type": "code",
   "execution_count": 17,
   "metadata": {},
   "outputs": [
    {
     "name": "stderr",
     "output_type": "stream",
     "text": [
      "Using the latest cached version of the module from /home/hushengding/.cache/huggingface/modules/datasets_modules/datasets/super_glue/2fb163bca9085c1deb906aff20f00c242227ff704a4e8c9cfdfe820be3abfc83 (last modified on Tue Oct 19 07:57:21 2021) since it couldn't be found locally at super_glue, or remotely on the Hugging Face Hub.\n",
      "Reusing dataset super_glue (../datasets/.cache/huggingface_datasets/super_glue___super_glue)/boolq/1.0.2/2fb163bca9085c1deb906aff20f00c242227ff704a4e8c9cfdfe820be3abfc83)\n"
     ]
    },
    {
     "data": {
      "application/vnd.jupyter.widget-view+json": {
       "model_id": "90eb820e9ab242c18a500599da3a4082",
       "version_major": 2,
       "version_minor": 0
      },
      "text/plain": [
       "  0%|          | 0/3 [00:00<?, ?it/s]"
      ]
     },
     "metadata": {},
     "output_type": "display_data"
    }
   ],
   "source": [
    "from datasets import load_dataset\n",
    "boolq_dataset = load_dataset('super_glue', 'boolq', cache_dir=\"../datasets/.cache/huggingface_datasets\")\n"
   ]
  },
  {
   "cell_type": "code",
   "execution_count": 20,
   "metadata": {},
   "outputs": [
    {
     "data": {
      "text/plain": [
       "{'label': -1,\n",
       " 'passage': '20 euro note -- Until now there has been only one complete series of euro notes; however a new series, similar to the current one, is being released. The European Central Bank will, in due time, announce when banknotes from the first series lose legal tender status.',\n",
       " 'idx': 0,\n",
       " 'question': 'is the first series 20 euro note still legal tender'}"
      ]
     },
     "execution_count": 20,
     "metadata": {},
     "output_type": "execute_result"
    }
   ],
   "source": [
    "boolq_dataset['test'][0]"
   ]
  },
  {
   "cell_type": "markdown",
   "metadata": {},
   "source": [
    "Not that You might need to specify a cache_dir for better data exploring\n",
    "\n",
    "You might encounter \"IProgress not found. Please update jupyter and ipywidgets.\"\n",
    "Please run\n",
    "`conda install -c conda-forge ipywidgets` and `jupyter nbextension enable --py widgetsnbextension`, then restart the jupyter notebook."
   ]
  },
  {
   "cell_type": "markdown",
   "metadata": {},
   "source": [
    "## Define (or load) a transformation"
   ]
  },
  {
   "cell_type": "code",
   "execution_count": 41,
   "metadata": {},
   "outputs": [],
   "source": [
    "from openprompt.data_utils import InputExample\n",
    "\n",
    "def transform(example):\n",
    "    text_a = example['paragraph']\n",
    "    text_b = example['question']\n",
    "    meta = {\"answer\": example[\"answer\"]}\n",
    "    label = int(example['label'])\n",
    "    guid = \"p{}-q{}-a{}\".format(example['idx']['paragraph'], example['idx']['question'], example['idx']['answer'])\n",
    "    return InputExample(guid = guid, text_a = text_a, text_b = text_b, meta = meta, label=label)"
   ]
  },
  {
   "cell_type": "markdown",
   "metadata": {},
   "source": [
    "## Or load a transformation"
   ]
  },
  {
   "cell_type": "code",
   "execution_count": 1,
   "metadata": {},
   "outputs": [
    {
     "name": "stderr",
     "output_type": "stream",
     "text": [
      "Reusing dataset super_glue (/home/hushengding/.cache/huggingface/datasets/super_glue/multirc/1.0.2/2fb163bca9085c1deb906aff20f00c242227ff704a4e8c9cfdfe820be3abfc83)\n"
     ]
    }
   ],
   "source": [
    "from openprompt.data_utils.huggingface_dataset import SuperglueMultircProcessor\n",
    "train_dataset = SuperglueMultircProcessor().get_train_examples()\n"
   ]
  },
  {
   "cell_type": "markdown",
   "metadata": {},
   "source": [
    "## Apply the transformation"
   ]
  },
  {
   "cell_type": "code",
   "execution_count": 2,
   "metadata": {},
   "outputs": [
    {
     "data": {
      "text/plain": [
       "{\n",
       "  \"guid\": \"p0-q0-a0\",\n",
       "  \"label\": 0,\n",
       "  \"meta\": {\n",
       "    \"answer\": \"Children, Gerd, or Dorian Popa\"\n",
       "  },\n",
       "  \"text_a\": \"While this process moved along, diplomacy continued its rounds. Direct pressure on the Taliban had proved unsuccessful. As one NSC staff note put it, \\\"Under the Taliban, Afghanistan is not so much a state sponsor of terrorism as it is a state sponsored by terrorists.\\\" In early 2000, the United States began a high-level effort to persuade Pakistan to use its influence over the Taliban. In January 2000, Assistant Secretary of State Karl Inderfurth and the State Department's counterterrorism coordinator, Michael Sheehan, met with General Musharraf in Islamabad, dangling before him the possibility of a presidential visit in March as a reward for Pakistani cooperation. Such a visit was coveted by Musharraf, partly as a sign of his government's legitimacy. He told the two envoys that he would meet with Mullah Omar and press him on  Bin Laden. They left, however, reporting to Washington that Pakistan was unlikely in fact to do anything,\\\" given what it sees as the benefits of Taliban control of Afghanistan.\\\" President Clinton was scheduled to travel to India. The State Department felt that he should not visit India without also visiting Pakistan. The Secret Service and the CIA, however, warned in the strongest terms that visiting Pakistan would risk the President's life. Counterterrorism officials also argued that Pakistan had not done enough to merit a presidential visit. But President Clinton insisted on including Pakistan in the itinerary for his trip to South Asia. His one-day stopover on March 25, 2000, was the first time a U.S. president had been there since 1969. At his meeting with Musharraf and others, President Clinton concentrated on tensions between Pakistan and India and the dangers of nuclear proliferation, but also discussed  Bin Laden. President Clinton told us that when he pulled Musharraf aside for a brief, one-on-one meeting, he pleaded with the general for help regarding  Bin Laden.\\\" I offered him the moon when I went to see him, in terms of better relations with the United States, if he'd help us get  Bin Laden and deal with another issue or two.\\\" The U.S. effort continued. \",\n",
       "  \"text_b\": \"What did the high-level effort to persuade Pakistan include?\",\n",
       "  \"tgt_text\": null\n",
       "}"
      ]
     },
     "execution_count": 2,
     "metadata": {},
     "output_type": "execute_result"
    }
   ],
   "source": [
    "# train_dataset = list(map(transform, multirc_dataset['train']))\n",
    "# valid_dataset = list(map(transform, multirc_dataset['validation']))\n",
    "# test_dataset = list(map(transform, multirc_dataset['test']))\n",
    "train_dataset[0]"
   ]
  },
  {
   "cell_type": "code",
   "execution_count": 20,
   "metadata": {},
   "outputs": [
    {
     "name": "stdout",
     "output_type": "stream",
     "text": [
      "[Parameter containing:\n",
      "tensor([[ 0.3003,  0.2248, -0.3258, -0.2067],\n",
      "        [-0.4044,  0.2044, -0.3495,  0.4446]], requires_grad=True), Parameter containing:\n",
      "tensor([-0.2840, -0.2530], requires_grad=True)]\n",
      "tensor([[ 0.0611,  0.2935, -0.1864],\n",
      "        [-0.2517, -1.2096,  0.7681],\n",
      "        [ 0.3961,  1.9033, -1.2087],\n",
      "        [-0.1395, -0.6706,  0.4259]]) tensor([[-0.2350,  0.4802, -2.6798,  2.0192],\n",
      "        [-0.2350,  0.4802, -2.6798,  2.0192]])\n"
     ]
    }
   ],
   "source": [
    "import torch\n",
    "import torch.nn as  nn\n",
    "\n",
    "class A(nn.Module):\n",
    "    def __init__(self,):\n",
    "        super().__init__()\n",
    "        self.x = nn.Linear(3,4)\n",
    "        self.y = nn.Linear(4,2)\n",
    "    \n",
    "    def parameters(self, recurse: bool = True):\n",
    "        for name, param in self.named_parameters(recurse=recurse):\n",
    "            if \"x\" not in name:\n",
    "                yield param\n",
    "    \n",
    "    def forward(self, x):\n",
    "        return self.y(self.x(x)).sum()\n",
    "    # def register_parameter(self, name: str, param) -> None:\n",
    "    #     print(\"here {}\".format(name))\n",
    "    #     if \"x\" in name:\n",
    "    #         pass\n",
    "    #     else:\n",
    "    #         return super().register_parameter(name, param)\n",
    "\n",
    "a = A()\n",
    "out = a(torch.randn(2,3))\n",
    "out.backward()\n",
    "\n",
    "print([i for i in a.parameters()])\n",
    "print(a.x.weight.grad, a.y.weight.grad)\n"
   ]
  }
 ],
 "metadata": {
  "interpreter": {
   "hash": "fa7770adb577eb6e1536f10a75015ca27b9af8fb7b6a3f729bbba661ffba34fd"
  },
  "kernelspec": {
   "display_name": "Python 3.8.10 64-bit ('openprompt-v1': conda)",
   "name": "python3"
  },
  "language_info": {
   "codemirror_mode": {
    "name": "ipython",
    "version": 3
   },
   "file_extension": ".py",
   "mimetype": "text/x-python",
   "name": "python",
   "nbconvert_exporter": "python",
   "pygments_lexer": "ipython3",
   "version": "3.8.10"
  },
  "orig_nbformat": 4
 },
 "nbformat": 4,
 "nbformat_minor": 2
}
